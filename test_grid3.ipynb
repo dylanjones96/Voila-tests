{
 "cells": [
  {
   "cell_type": "code",
   "execution_count": null,
   "metadata": {},
   "outputs": [],
   "source": [
    "# import matplotlib.pyplot as plt\n",
    "import bqplot.pyplot as plt\n",
    "import numpy as np\n",
    "import ipywidgets as widgets\n",
    "\n",
    "from tables import *"
   ]
  },
  {
   "cell_type": "markdown",
   "metadata": {
    "tags": []
   },
   "source": [
    "# Test text 1"
   ]
  },
  {
   "cell_type": "markdown",
   "metadata": {},
   "source": [
    "## Test text 2"
   ]
  },
  {
   "cell_type": "markdown",
   "metadata": {},
   "source": [
    "Just some more text to give Voila something else to output. "
   ]
  },
  {
   "cell_type": "code",
   "execution_count": null,
   "metadata": {},
   "outputs": [],
   "source": [
    "# plot_container = widgets.Output()"
   ]
  },
  {
   "cell_type": "code",
   "execution_count": null,
   "metadata": {},
   "outputs": [],
   "source": [
    "def create_parameter_slider(min_val, max_val, step_val, default_val, model_param):\n",
    "        \n",
    "    # parameter_slider_label = widgets.Label(model_param + ': ')\n",
    "    parameter_slider = widgets.FloatSlider(\n",
    "        min=min_val, max=max_val, step=step_val, value=default_val, \n",
    "        description=model_param+': ', layout=widgets.Layout(width='500px')\n",
    "    )\n",
    "    # parameter_slider.observe(update, names=['value'])\n",
    "\n",
    "    return parameter_slider\n",
    "\n",
    "\n",
    "def create_plot(potential_height_value, tp_value, tsoc_value, deltaU1_value, deltaU2_value):\n",
    "\n",
    "    x = np.linspace(-5, 5)\n",
    "    y = tp_value*x**3 + tsoc_value*x**2 + deltaU1_value*x + deltaU2_value\n",
    "\n",
    "    plt.figure()\n",
    "    for factor in range(0, 5, 1):\n",
    "        plt.plot(x, y*factor)\n",
    "\n",
    "    plt.xlabel(r'$k$ path')\n",
    "    plt.ylabel(r'$E$ (eV)')"
   ]
  },
  {
   "cell_type": "code",
   "execution_count": null,
   "metadata": {},
   "outputs": [],
   "source": [
    "# intialise sliders their boxes\n",
    "potential_height_slider = create_parameter_slider(min_val=0.0, max_val=0.5, step_val=0.05, \n",
    "                                                  default_val=0.0, model_param=r'$V_H$')\n",
    "tp_slider = create_parameter_slider(min_val=-0.5, max_val=0.5, step_val=0.05, \n",
    "                                    default_val=-0.05, model_param=r\"$t'$\")\n",
    "tsoc_slider = create_parameter_slider(min_val=-0.2, max_val=0.2, step_val=0.02, \n",
    "                                      default_val=0.2, model_param=r\"$t_{soc}$\")\n",
    "deltaU1_slider = create_parameter_slider(min_val=-0.5, max_val=0.5, step_val=0.1, \n",
    "                                         default_val=0.0, model_param=r\"$\\Delta U_1$\")\n",
    "deltaU2_slider = create_parameter_slider(min_val=-0.5, max_val=0.5, step_val=0.1,\n",
    "                                         default_val=0.0, model_param=r\"$\\Delta U_2$\")"
   ]
  },
  {
   "cell_type": "code",
   "execution_count": null,
   "metadata": {},
   "outputs": [],
   "source": [
    "grid = widgets.GridspecLayout(5, 3)\n",
    "grid[0, 0] = potential_height_slider\n",
    "grid[1, 0] = tp_slider\n",
    "grid[2, 0] = tsoc_slider\n",
    "grid[3, 0] = deltaU1_slider\n",
    "grid[4, 0] = deltaU2_slider"
   ]
  },
  {
   "cell_type": "code",
   "execution_count": null,
   "metadata": {
    "tags": []
   },
   "outputs": [],
   "source": [
    "# with plot_container:\n",
    "#     create_plot(potential_height_value=0, tp_value=0.5, tsoc_value=5, deltaU1_value=-8, deltaU2_value=-40)\n",
    "#     plt.show()"
   ]
  },
  {
   "cell_type": "code",
   "execution_count": null,
   "metadata": {},
   "outputs": [],
   "source": [
    "# grid[:, 1:] = plot_container"
   ]
  },
  {
   "cell_type": "code",
   "execution_count": null,
   "metadata": {},
   "outputs": [],
   "source": [
    "grid"
   ]
  }
 ],
 "metadata": {
  "kernelspec": {
   "display_name": "Python 3 (ipykernel)",
   "language": "python",
   "name": "python3"
  },
  "language_info": {
   "codemirror_mode": {
    "name": "ipython",
    "version": 3
   },
   "file_extension": ".py",
   "mimetype": "text/x-python",
   "name": "python",
   "nbconvert_exporter": "python",
   "pygments_lexer": "ipython3",
   "version": "3.9.13"
  }
 },
 "nbformat": 4,
 "nbformat_minor": 4
}
