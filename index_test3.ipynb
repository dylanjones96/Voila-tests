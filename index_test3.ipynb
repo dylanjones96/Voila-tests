{
 "cells": [
  {
   "cell_type": "code",
   "execution_count": null,
   "metadata": {},
   "outputs": [],
   "source": [
    "import pandas as pd\n",
    "import matplotlib.pyplot as plt\n",
    "import ipywidgets as widgets\n",
    "from IPython.display import HTML"
   ]
  },
  {
   "cell_type": "code",
   "execution_count": null,
   "metadata": {},
   "outputs": [],
   "source": [
    "DATA_URL = 'https://gist.githubusercontent.com/chriddyp/cb5392c35661370d95f300086accea51/raw/8e0768211f6b747c0db42a9ce9a0937dafcbd8b2/indicators.csv'"
   ]
  },
  {
   "cell_type": "markdown",
   "metadata": {},
   "source": [
    "# Add a title or something\n",
    "\n",
    "## Add a subheading\n",
    "\n",
    "Add some text for Voila to render. "
   ]
  },
  {
   "cell_type": "code",
   "execution_count": null,
   "metadata": {},
   "outputs": [],
   "source": [
    "class App:\n",
    "    \n",
    "    def __init__(self, df):\n",
    "        \n",
    "        self._df = df\n",
    "        available_indicators = self._df['Indicator Name'].unique()\n",
    "        self._x_dropdown = self._create_indicator_dropdown(available_indicators, 0)\n",
    "        self._y_dropdown = self._create_indicator_dropdown(available_indicators, 1)        \n",
    "        self._plot_container = widgets.Output()\n",
    "        self._year_slider, year_slider_box = self._create_year_slider(\n",
    "            min(df['Year']), max(df['Year'])\n",
    "        )\n",
    "        self._potential_height_slider, potential_height_slider_box = self._create_parameter_slider(\n",
    "            min_val=0.0, max_val=0.5, step_val=0.10, default_val=0.1, model_param=r'$V_H$')\n",
    "\n",
    "        self.container = widgets.VBox([\n",
    "            widgets.HBox([self._x_dropdown, self._y_dropdown]),\n",
    "            self._plot_container,\n",
    "            year_slider_box, \n",
    "            potential_height_slider_box\n",
    "        ])\n",
    "        \n",
    "        self._update_app()\n",
    "    \n",
    "    \n",
    "    @classmethod\n",
    "    def from_url(cls, url):\n",
    "        df = pd.read_csv(url)\n",
    "        return cls(df)\n",
    "        \n",
    "    def _create_indicator_dropdown(self, indicators, initial_index):\n",
    "        dropdown = widgets.Dropdown(options=indicators, value=indicators[initial_index])\n",
    "        dropdown.observe(self._on_change, names=['value'])\n",
    "        return dropdown\n",
    "    \n",
    "    def _create_year_slider(self, min_year, max_year):\n",
    "        year_slider_label = widgets.Label('Year range: ')\n",
    "        year_slider = widgets.IntRangeSlider(\n",
    "            min=min_year, max=max_year,\n",
    "            layout=widgets.Layout(width='500px')\n",
    "        )\n",
    "        year_slider.observe(self._on_change, names=['value'])\n",
    "        year_slider_box = widgets.HBox([year_slider_label, year_slider])\n",
    "        return year_slider, year_slider_box\n",
    "    \n",
    "    def _create_parameter_slider(self, min_val, max_val, step_val, default_val, model_param):\n",
    "        # parameter_slider_label = widgets.Label(model_param + ': ')\n",
    "        parameter_slider = widgets.FloatSlider(\n",
    "            min=min_val, max=max_val, step=step_val, value=default_val, \n",
    "            description=model_param+': ', layout=widgets.Layout(width='500px')\n",
    "        )\n",
    "        parameter_slider.observe(self._on_change, names=['value'])\n",
    "        parameter_slider_box = widgets.HBox([parameter_slider])\n",
    "        return parameter_slider, parameter_slider_box\n",
    "    \n",
    "    def _create_plot(self, x_indicator, y_indicator, year_range):\n",
    "        df = self._df[self._df['Year'].between(*year_range)]\n",
    "        xs = df[df['Indicator Name'] == x_indicator]['Value']\n",
    "        ys = df[df['Indicator Name'] == y_indicator]['Value']\n",
    "        plt.figure(figsize=(8, 6))\n",
    "        plt.xlabel(x_indicator, size=16)\n",
    "        plt.ylabel(y_indicator, size=16)\n",
    "        plt.gca().tick_params(axis='both', which='major', labelsize=16)\n",
    "        plt.plot(xs, ys, 'o', alpha=0.3)\n",
    "        \n",
    "    def _on_change(self, _):\n",
    "        self._update_app()\n",
    "        \n",
    "    def _update_app(self):\n",
    "        x_indicator = self._x_dropdown.value\n",
    "        y_indicator = self._y_dropdown.value\n",
    "        year_range = self._year_slider.value\n",
    "        self._plot_container.clear_output(wait=True)\n",
    "        with self._plot_container:\n",
    "            self._create_plot(x_indicator, y_indicator, year_range)\n",
    "            plt.show()"
   ]
  },
  {
   "cell_type": "code",
   "execution_count": null,
   "metadata": {},
   "outputs": [],
   "source": [
    "app = App.from_url(DATA_URL)\n",
    "\n",
    "app.container"
   ]
  }
 ],
 "metadata": {
  "kernelspec": {
   "display_name": "Python 3 (ipykernel)",
   "language": "python",
   "name": "python3"
  },
  "language_info": {
   "codemirror_mode": {
    "name": "ipython",
    "version": 3
   },
   "file_extension": ".py",
   "mimetype": "text/x-python",
   "name": "python",
   "nbconvert_exporter": "python",
   "pygments_lexer": "ipython3",
   "version": "3.9.13"
  }
 },
 "nbformat": 4,
 "nbformat_minor": 4
}
